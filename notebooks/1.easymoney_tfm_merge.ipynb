{
 "cells": [
  {
   "cell_type": "code",
   "execution_count": 1,
   "metadata": {},
   "outputs": [],
   "source": [
    "#importamos librería\n",
    "import pandas as pd \n",
    "import numpy as np\n",
    "import matplotlib.pyplot as plt\n",
    "import seaborn as sns\n",
    "from sklearn.preprocessing import LabelEncoder,MinMaxScaler, OrdinalEncoder\n",
    "import sqlite3 as sql\n",
    "# import xgboost as xgb\n"
   ]
  },
  {
   "cell_type": "code",
   "execution_count": 2,
   "metadata": {},
   "outputs": [],
   "source": [
    "# Leemos el archivo CSV de actividad comercial\n",
    "df_ca = pd.read_csv(\"data/commercial_activity_df.csv\")"
   ]
  },
  {
   "cell_type": "code",
   "execution_count": 3,
   "metadata": {},
   "outputs": [],
   "source": [
    "# Leemos el archivo CSV de productos\n",
    "df_products = pd.read_csv(\"data/products_df.csv\")\n"
   ]
  },
  {
   "cell_type": "code",
   "execution_count": 4,
   "metadata": {},
   "outputs": [],
   "source": [
    "# Leemos el archivo CSV de datos sociodemográficos\n",
    "df_sd = pd.read_csv(\"data/sociodemographic_df.csv\")"
   ]
  },
  {
   "cell_type": "code",
   "execution_count": 5,
   "metadata": {},
   "outputs": [],
   "source": [
    "# Eliminamos las columnas \"Unnamed: 0\" de los dataframes\n",
    "del (df_ca[\"Unnamed: 0\"])\n",
    "del (df_products[\"Unnamed: 0\"])\n",
    "del (df_sd[\"Unnamed: 0\"])"
   ]
  },
  {
   "cell_type": "code",
   "execution_count": 6,
   "metadata": {},
   "outputs": [],
   "source": [
    "# Combinamos los dataframes df_ca y df_products utilizando las columnas 'pk_cid' y 'pk_partition' como claves\n",
    "df_ca_products = pd.merge(df_ca, df_products, on=['pk_cid', 'pk_partition'], how='left')\n"
   ]
  },
  {
   "cell_type": "code",
   "execution_count": 7,
   "metadata": {},
   "outputs": [],
   "source": [
    "# Combinamos los dataframes df_ca_products y df_sd utilizando las columnas 'pk_cid' y 'pk_partition' como claves\n",
    "df_easy = pd.merge(df_ca_products, df_sd, on=['pk_cid', 'pk_partition'], how='left')\n"
   ]
  },
  {
   "cell_type": "code",
   "execution_count": 8,
   "metadata": {},
   "outputs": [
    {
     "name": "stdout",
     "output_type": "stream",
     "text": [
      "<class 'pandas.core.frame.DataFrame'>\n",
      "RangeIndex: 5962924 entries, 0 to 5962923\n",
      "Data columns (total 27 columns):\n",
      " #   Column              Dtype  \n",
      "---  ------              -----  \n",
      " 0   pk_cid              int64  \n",
      " 1   pk_partition        object \n",
      " 2   entry_date          object \n",
      " 3   entry_channel       object \n",
      " 4   active_customer     float64\n",
      " 5   segment             object \n",
      " 6   short_term_deposit  int64  \n",
      " 7   loans               int64  \n",
      " 8   mortgage            int64  \n",
      " 9   funds               int64  \n",
      " 10  securities          int64  \n",
      " 11  long_term_deposit   int64  \n",
      " 12  em_account_pp       int64  \n",
      " 13  credit_card         int64  \n",
      " 14  payroll             float64\n",
      " 15  pension_plan        float64\n",
      " 16  payroll_account     int64  \n",
      " 17  emc_account         int64  \n",
      " 18  debit_card          int64  \n",
      " 19  em_account_p        int64  \n",
      " 20  em_acount           int64  \n",
      " 21  country_id          object \n",
      " 22  region_code         float64\n",
      " 23  gender              object \n",
      " 24  age                 int64  \n",
      " 25  deceased            object \n",
      " 26  salary              float64\n",
      "dtypes: float64(5), int64(15), object(7)\n",
      "memory usage: 1.2+ GB\n"
     ]
    }
   ],
   "source": [
    "# Mostramos información del dataframe df_easy\n",
    "df_easy.info()"
   ]
  },
  {
   "cell_type": "code",
   "execution_count": 9,
   "metadata": {},
   "outputs": [],
   "source": [
    "# Convertimos la columna \"pk_partition\" a tipo datetime\n",
    "df_easy[\"pk_partition\"] = pd.to_datetime(df_easy[\"pk_partition\"])\n"
   ]
  },
  {
   "cell_type": "code",
   "execution_count": 10,
   "metadata": {},
   "outputs": [],
   "source": [
    "# Filtramos el dataframe df_easy para eliminar las filas donde la columna 'entry_date' sea '2015-02-29' o '2019-02-29'\n",
    "# Estos son años donde no hay 29 de Febrero\n",
    "df_easy = df_easy[(df_easy['entry_date'] != '2015-02-29') & (df_easy['entry_date'] != '2019-02-29')]\n",
    " "
   ]
  },
  {
   "cell_type": "code",
   "execution_count": 11,
   "metadata": {},
   "outputs": [
    {
     "data": {
      "text/html": [
       "<div>\n",
       "<style scoped>\n",
       "    .dataframe tbody tr th:only-of-type {\n",
       "        vertical-align: middle;\n",
       "    }\n",
       "\n",
       "    .dataframe tbody tr th {\n",
       "        vertical-align: top;\n",
       "    }\n",
       "\n",
       "    .dataframe thead th {\n",
       "        text-align: right;\n",
       "    }\n",
       "</style>\n",
       "<table border=\"1\" class=\"dataframe\">\n",
       "  <thead>\n",
       "    <tr style=\"text-align: right;\">\n",
       "      <th></th>\n",
       "      <th>pk_cid</th>\n",
       "      <th>pk_partition</th>\n",
       "      <th>entry_date</th>\n",
       "      <th>entry_channel</th>\n",
       "      <th>active_customer</th>\n",
       "      <th>segment</th>\n",
       "      <th>short_term_deposit</th>\n",
       "      <th>loans</th>\n",
       "      <th>mortgage</th>\n",
       "      <th>funds</th>\n",
       "      <th>...</th>\n",
       "      <th>emc_account</th>\n",
       "      <th>debit_card</th>\n",
       "      <th>em_account_p</th>\n",
       "      <th>em_acount</th>\n",
       "      <th>country_id</th>\n",
       "      <th>region_code</th>\n",
       "      <th>gender</th>\n",
       "      <th>age</th>\n",
       "      <th>deceased</th>\n",
       "      <th>salary</th>\n",
       "    </tr>\n",
       "  </thead>\n",
       "  <tbody>\n",
       "  </tbody>\n",
       "</table>\n",
       "<p>0 rows × 27 columns</p>\n",
       "</div>"
      ],
      "text/plain": [
       "Empty DataFrame\n",
       "Columns: [pk_cid, pk_partition, entry_date, entry_channel, active_customer, segment, short_term_deposit, loans, mortgage, funds, securities, long_term_deposit, em_account_pp, credit_card, payroll, pension_plan, payroll_account, emc_account, debit_card, em_account_p, em_acount, country_id, region_code, gender, age, deceased, salary]\n",
       "Index: []\n",
       "\n",
       "[0 rows x 27 columns]"
      ]
     },
     "execution_count": 11,
     "metadata": {},
     "output_type": "execute_result"
    }
   ],
   "source": [
    "# Filtramos el dataframe df_easy para comprobar que no hay filas donde la columna 'entry_date' sea '2019-02-29'\n",
    "df_easy[df_easy['entry_date'] == '2019-02-29']"
   ]
  },
  {
   "cell_type": "code",
   "execution_count": 12,
   "metadata": {},
   "outputs": [],
   "source": [
    "# Convertimos la columna \"entry_date\" a tipo datetime\n",
    "df_easy[\"entry_date\"] = pd.to_datetime(df_easy[\"entry_date\"])\n"
   ]
  },
  {
   "cell_type": "code",
   "execution_count": 13,
   "metadata": {},
   "outputs": [
    {
     "name": "stdout",
     "output_type": "stream",
     "text": [
      "<class 'pandas.core.frame.DataFrame'>\n",
      "Index: 5956511 entries, 0 to 5962923\n",
      "Data columns (total 27 columns):\n",
      " #   Column              Dtype         \n",
      "---  ------              -----         \n",
      " 0   pk_cid              int64         \n",
      " 1   pk_partition        datetime64[ns]\n",
      " 2   entry_date          datetime64[ns]\n",
      " 3   entry_channel       object        \n",
      " 4   active_customer     float64       \n",
      " 5   segment             object        \n",
      " 6   short_term_deposit  int64         \n",
      " 7   loans               int64         \n",
      " 8   mortgage            int64         \n",
      " 9   funds               int64         \n",
      " 10  securities          int64         \n",
      " 11  long_term_deposit   int64         \n",
      " 12  em_account_pp       int64         \n",
      " 13  credit_card         int64         \n",
      " 14  payroll             float64       \n",
      " 15  pension_plan        float64       \n",
      " 16  payroll_account     int64         \n",
      " 17  emc_account         int64         \n",
      " 18  debit_card          int64         \n",
      " 19  em_account_p        int64         \n",
      " 20  em_acount           int64         \n",
      " 21  country_id          object        \n",
      " 22  region_code         float64       \n",
      " 23  gender              object        \n",
      " 24  age                 int64         \n",
      " 25  deceased            object        \n",
      " 26  salary              float64       \n",
      "dtypes: datetime64[ns](2), float64(5), int64(15), object(5)\n",
      "memory usage: 1.2+ GB\n"
     ]
    }
   ],
   "source": [
    "# Mostramos información del dataframe df_easy\n",
    "df_easy.info()"
   ]
  },
  {
   "cell_type": "code",
   "execution_count": 14,
   "metadata": {},
   "outputs": [],
   "source": [
    "# Creamos una copia del dataframe df_easy y la guardamos en df_easy_original\n",
    "df_easy_original = df_easy.copy()"
   ]
  },
  {
   "cell_type": "code",
   "execution_count": 15,
   "metadata": {},
   "outputs": [],
   "source": [
    "# Seleccionamos las columnas del dataframe df_easy que son de tipo int64 o int32\n",
    "int_columns = df_easy.select_dtypes(include=['int64', \"int32\"]).columns"
   ]
  },
  {
   "cell_type": "code",
   "execution_count": 16,
   "metadata": {},
   "outputs": [
    {
     "data": {
      "text/plain": [
       "Index(['pk_cid', 'short_term_deposit', 'loans', 'mortgage', 'funds',\n",
       "       'securities', 'long_term_deposit', 'em_account_pp', 'credit_card',\n",
       "       'payroll_account', 'emc_account', 'debit_card', 'em_account_p',\n",
       "       'em_acount', 'age'],\n",
       "      dtype='object')"
      ]
     },
     "execution_count": 16,
     "metadata": {},
     "output_type": "execute_result"
    }
   ],
   "source": [
    "# Mostramos las columnas del dataframe df_easy que son de tipo int64 o int32\n",
    "int_columns"
   ]
  },
  {
   "cell_type": "code",
   "execution_count": 17,
   "metadata": {},
   "outputs": [],
   "source": [
    "# Convertimos las columnas seleccionadas a tipos de datos más eficientes\n",
    "# Si el valor máximo de la columna es menor a 128, la convertimos a 'int16'\n",
    "# De lo contrario, la convertimos a 'int32'\n",
    "df_easy[int_columns] = df_easy[int_columns].apply(lambda col: col.astype('int16') if col.max() < 128 else col.astype('int32'))"
   ]
  },
  {
   "cell_type": "code",
   "execution_count": 18,
   "metadata": {},
   "outputs": [
    {
     "name": "stdout",
     "output_type": "stream",
     "text": [
      "<class 'pandas.core.frame.DataFrame'>\n",
      "Index: 5956511 entries, 0 to 5962923\n",
      "Data columns (total 27 columns):\n",
      " #   Column              Dtype         \n",
      "---  ------              -----         \n",
      " 0   pk_cid              int32         \n",
      " 1   pk_partition        datetime64[ns]\n",
      " 2   entry_date          datetime64[ns]\n",
      " 3   entry_channel       object        \n",
      " 4   active_customer     float64       \n",
      " 5   segment             object        \n",
      " 6   short_term_deposit  int16         \n",
      " 7   loans               int16         \n",
      " 8   mortgage            int16         \n",
      " 9   funds               int16         \n",
      " 10  securities          int16         \n",
      " 11  long_term_deposit   int16         \n",
      " 12  em_account_pp       int16         \n",
      " 13  credit_card         int16         \n",
      " 14  payroll             float64       \n",
      " 15  pension_plan        float64       \n",
      " 16  payroll_account     int16         \n",
      " 17  emc_account         int16         \n",
      " 18  debit_card          int16         \n",
      " 19  em_account_p        int16         \n",
      " 20  em_acount           int16         \n",
      " 21  country_id          object        \n",
      " 22  region_code         float64       \n",
      " 23  gender              object        \n",
      " 24  age                 int16         \n",
      " 25  deceased            object        \n",
      " 26  salary              float64       \n",
      "dtypes: datetime64[ns](2), float64(5), int16(14), int32(1), object(5)\n",
      "memory usage: 772.6+ MB\n"
     ]
    }
   ],
   "source": [
    "# Mostramos información del dataframe df_easy\n",
    "df_easy.info()"
   ]
  },
  {
   "cell_type": "code",
   "execution_count": 19,
   "metadata": {},
   "outputs": [],
   "source": [
    "# Convertimos la columna 'active_customer' a tipo 'int16' para optimizar el uso de memoria\n",
    "df_easy['active_customer'] = df_easy['active_customer'].astype('int16')"
   ]
  },
  {
   "cell_type": "code",
   "execution_count": 20,
   "metadata": {},
   "outputs": [],
   "source": [
    "# Convertimos la columna 'region_code' a tipo 'object' para optimizar el uso de memoria\n",
    "df_easy['region_code'] = df_easy['region_code'].astype('object')"
   ]
  },
  {
   "cell_type": "code",
   "execution_count": 21,
   "metadata": {},
   "outputs": [
    {
     "name": "stdout",
     "output_type": "stream",
     "text": [
      "<class 'pandas.core.frame.DataFrame'>\n",
      "Index: 5956511 entries, 0 to 5962923\n",
      "Data columns (total 27 columns):\n",
      " #   Column              Dtype         \n",
      "---  ------              -----         \n",
      " 0   pk_cid              int32         \n",
      " 1   pk_partition        datetime64[ns]\n",
      " 2   entry_date          datetime64[ns]\n",
      " 3   entry_channel       object        \n",
      " 4   active_customer     int16         \n",
      " 5   segment             object        \n",
      " 6   short_term_deposit  int16         \n",
      " 7   loans               int16         \n",
      " 8   mortgage            int16         \n",
      " 9   funds               int16         \n",
      " 10  securities          int16         \n",
      " 11  long_term_deposit   int16         \n",
      " 12  em_account_pp       int16         \n",
      " 13  credit_card         int16         \n",
      " 14  payroll             float64       \n",
      " 15  pension_plan        float64       \n",
      " 16  payroll_account     int16         \n",
      " 17  emc_account         int16         \n",
      " 18  debit_card          int16         \n",
      " 19  em_account_p        int16         \n",
      " 20  em_acount           int16         \n",
      " 21  country_id          object        \n",
      " 22  region_code         object        \n",
      " 23  gender              object        \n",
      " 24  age                 int16         \n",
      " 25  deceased            object        \n",
      " 26  salary              float64       \n",
      "dtypes: datetime64[ns](2), float64(3), int16(15), int32(1), object(6)\n",
      "memory usage: 738.5+ MB\n"
     ]
    }
   ],
   "source": [
    "# Mostramos información del dataframe df_easy para verificar los tipos de datos y el uso de memoria\n",
    "df_easy.info()"
   ]
  },
  {
   "cell_type": "code",
   "execution_count": 22,
   "metadata": {},
   "outputs": [],
   "source": [
    "# Guardamos los tipos de datos originales de las columnas seleccionadas en la variable original_dtypes\n",
    "original_dtypes = df_easy[[\"entry_channel\", \"segment\", \"payroll\", \"pension_plan\", \"region_code\", \"gender\"]].dtypes"
   ]
  },
  {
   "cell_type": "code",
   "execution_count": 23,
   "metadata": {},
   "outputs": [
    {
     "data": {
      "text/html": [
       "<div>\n",
       "<style scoped>\n",
       "    .dataframe tbody tr th:only-of-type {\n",
       "        vertical-align: middle;\n",
       "    }\n",
       "\n",
       "    .dataframe tbody tr th {\n",
       "        vertical-align: top;\n",
       "    }\n",
       "\n",
       "    .dataframe thead th {\n",
       "        text-align: right;\n",
       "    }\n",
       "</style>\n",
       "<table border=\"1\" class=\"dataframe\">\n",
       "  <thead>\n",
       "    <tr style=\"text-align: right;\">\n",
       "      <th></th>\n",
       "      <th>pk_cid</th>\n",
       "      <th>pk_partition</th>\n",
       "      <th>entry_date</th>\n",
       "      <th>entry_channel</th>\n",
       "      <th>active_customer</th>\n",
       "      <th>segment</th>\n",
       "      <th>short_term_deposit</th>\n",
       "      <th>loans</th>\n",
       "      <th>mortgage</th>\n",
       "      <th>funds</th>\n",
       "      <th>...</th>\n",
       "      <th>emc_account</th>\n",
       "      <th>debit_card</th>\n",
       "      <th>em_account_p</th>\n",
       "      <th>em_acount</th>\n",
       "      <th>country_id</th>\n",
       "      <th>region_code</th>\n",
       "      <th>gender</th>\n",
       "      <th>age</th>\n",
       "      <th>deceased</th>\n",
       "      <th>salary</th>\n",
       "    </tr>\n",
       "  </thead>\n",
       "  <tbody>\n",
       "    <tr>\n",
       "      <th>0</th>\n",
       "      <td>1375586</td>\n",
       "      <td>2018-01-28</td>\n",
       "      <td>2018-01-12</td>\n",
       "      <td>KHL</td>\n",
       "      <td>1</td>\n",
       "      <td>02 - PARTICULARES</td>\n",
       "      <td>0</td>\n",
       "      <td>0</td>\n",
       "      <td>0</td>\n",
       "      <td>0</td>\n",
       "      <td>...</td>\n",
       "      <td>0</td>\n",
       "      <td>0</td>\n",
       "      <td>0</td>\n",
       "      <td>1</td>\n",
       "      <td>ES</td>\n",
       "      <td>29.0</td>\n",
       "      <td>H</td>\n",
       "      <td>35</td>\n",
       "      <td>N</td>\n",
       "      <td>87218.10</td>\n",
       "    </tr>\n",
       "    <tr>\n",
       "      <th>1</th>\n",
       "      <td>1050611</td>\n",
       "      <td>2018-01-28</td>\n",
       "      <td>2015-08-10</td>\n",
       "      <td>KHE</td>\n",
       "      <td>0</td>\n",
       "      <td>03 - UNIVERSITARIO</td>\n",
       "      <td>0</td>\n",
       "      <td>0</td>\n",
       "      <td>0</td>\n",
       "      <td>0</td>\n",
       "      <td>...</td>\n",
       "      <td>0</td>\n",
       "      <td>0</td>\n",
       "      <td>0</td>\n",
       "      <td>1</td>\n",
       "      <td>ES</td>\n",
       "      <td>13.0</td>\n",
       "      <td>V</td>\n",
       "      <td>23</td>\n",
       "      <td>N</td>\n",
       "      <td>35548.74</td>\n",
       "    </tr>\n",
       "    <tr>\n",
       "      <th>2</th>\n",
       "      <td>1050612</td>\n",
       "      <td>2018-01-28</td>\n",
       "      <td>2015-08-10</td>\n",
       "      <td>KHE</td>\n",
       "      <td>0</td>\n",
       "      <td>03 - UNIVERSITARIO</td>\n",
       "      <td>0</td>\n",
       "      <td>0</td>\n",
       "      <td>0</td>\n",
       "      <td>0</td>\n",
       "      <td>...</td>\n",
       "      <td>0</td>\n",
       "      <td>0</td>\n",
       "      <td>0</td>\n",
       "      <td>1</td>\n",
       "      <td>ES</td>\n",
       "      <td>13.0</td>\n",
       "      <td>V</td>\n",
       "      <td>23</td>\n",
       "      <td>N</td>\n",
       "      <td>122179.11</td>\n",
       "    </tr>\n",
       "    <tr>\n",
       "      <th>3</th>\n",
       "      <td>1050613</td>\n",
       "      <td>2018-01-28</td>\n",
       "      <td>2015-08-10</td>\n",
       "      <td>KHD</td>\n",
       "      <td>0</td>\n",
       "      <td>03 - UNIVERSITARIO</td>\n",
       "      <td>1</td>\n",
       "      <td>0</td>\n",
       "      <td>0</td>\n",
       "      <td>0</td>\n",
       "      <td>...</td>\n",
       "      <td>0</td>\n",
       "      <td>0</td>\n",
       "      <td>0</td>\n",
       "      <td>0</td>\n",
       "      <td>ES</td>\n",
       "      <td>50.0</td>\n",
       "      <td>H</td>\n",
       "      <td>22</td>\n",
       "      <td>N</td>\n",
       "      <td>119775.54</td>\n",
       "    </tr>\n",
       "    <tr>\n",
       "      <th>4</th>\n",
       "      <td>1050614</td>\n",
       "      <td>2018-01-28</td>\n",
       "      <td>2015-08-10</td>\n",
       "      <td>KHE</td>\n",
       "      <td>1</td>\n",
       "      <td>03 - UNIVERSITARIO</td>\n",
       "      <td>0</td>\n",
       "      <td>0</td>\n",
       "      <td>0</td>\n",
       "      <td>0</td>\n",
       "      <td>...</td>\n",
       "      <td>0</td>\n",
       "      <td>0</td>\n",
       "      <td>0</td>\n",
       "      <td>1</td>\n",
       "      <td>ES</td>\n",
       "      <td>50.0</td>\n",
       "      <td>V</td>\n",
       "      <td>23</td>\n",
       "      <td>N</td>\n",
       "      <td>NaN</td>\n",
       "    </tr>\n",
       "  </tbody>\n",
       "</table>\n",
       "<p>5 rows × 27 columns</p>\n",
       "</div>"
      ],
      "text/plain": [
       "    pk_cid pk_partition entry_date entry_channel  active_customer  \\\n",
       "0  1375586   2018-01-28 2018-01-12           KHL                1   \n",
       "1  1050611   2018-01-28 2015-08-10           KHE                0   \n",
       "2  1050612   2018-01-28 2015-08-10           KHE                0   \n",
       "3  1050613   2018-01-28 2015-08-10           KHD                0   \n",
       "4  1050614   2018-01-28 2015-08-10           KHE                1   \n",
       "\n",
       "              segment  short_term_deposit  loans  mortgage  funds  ...  \\\n",
       "0   02 - PARTICULARES                   0      0         0      0  ...   \n",
       "1  03 - UNIVERSITARIO                   0      0         0      0  ...   \n",
       "2  03 - UNIVERSITARIO                   0      0         0      0  ...   \n",
       "3  03 - UNIVERSITARIO                   1      0         0      0  ...   \n",
       "4  03 - UNIVERSITARIO                   0      0         0      0  ...   \n",
       "\n",
       "   emc_account  debit_card  em_account_p  em_acount  country_id  region_code  \\\n",
       "0            0           0             0          1          ES         29.0   \n",
       "1            0           0             0          1          ES         13.0   \n",
       "2            0           0             0          1          ES         13.0   \n",
       "3            0           0             0          0          ES         50.0   \n",
       "4            0           0             0          1          ES         50.0   \n",
       "\n",
       "   gender  age  deceased     salary  \n",
       "0       H   35         N   87218.10  \n",
       "1       V   23         N   35548.74  \n",
       "2       V   23         N  122179.11  \n",
       "3       H   22         N  119775.54  \n",
       "4       V   23         N        NaN  \n",
       "\n",
       "[5 rows x 27 columns]"
      ]
     },
     "execution_count": 23,
     "metadata": {},
     "output_type": "execute_result"
    }
   ],
   "source": [
    "# Mostramos las primeras filas del dataframe df_easy\n",
    "df_easy.head()"
   ]
  },
  {
   "cell_type": "code",
   "execution_count": 24,
   "metadata": {},
   "outputs": [],
   "source": [
    "# Guardamos el dataframe df_easy en un archivo pickle\n",
    "df_easy.to_pickle(\"data/df_easy.pkl\")"
   ]
  },
  {
   "cell_type": "code",
   "execution_count": 25,
   "metadata": {},
   "outputs": [],
   "source": [
    "# Guardamos el dataframe df_easy en un archivo CSV\n",
    "df_easy.to_csv('reports/df_easy.csv')"
   ]
  }
 ],
 "metadata": {
  "kernelspec": {
   "display_name": "Python 3",
   "language": "python",
   "name": "python3"
  },
  "language_info": {
   "codemirror_mode": {
    "name": "ipython",
    "version": 3
   },
   "file_extension": ".py",
   "mimetype": "text/x-python",
   "name": "python",
   "nbconvert_exporter": "python",
   "pygments_lexer": "ipython3",
   "version": "3.12.4"
  }
 },
 "nbformat": 4,
 "nbformat_minor": 2
}
